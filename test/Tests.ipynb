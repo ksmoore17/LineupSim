{
 "cells": [
  {
   "cell_type": "code",
   "execution_count": 4,
   "metadata": {
    "scrolled": true
   },
   "outputs": [
    {
     "name": "stderr",
     "output_type": "stream",
     "text": [
      "WARNING: replacing module LineupSim.\n"
     ]
    },
    {
     "data": {
      "text/plain": [
       "761899"
      ]
     },
     "execution_count": 4,
     "metadata": {},
     "output_type": "execute_result"
    }
   ],
   "source": [
    "#Dist test output\n",
    "\n",
    "include(\"../src/LineupSim.jl\")\n",
    "import JSON\n",
    "\n",
    "team = LineupSim.createteam(1729)\n",
    "a = []\n",
    "for i in 1:1729\n",
    "    push!(a, merge(team[i][1], team[i][2]))\n",
    "end\n",
    "\n",
    "stringdata = JSON.json(a)\n",
    "\n",
    "open(\"./talentdisttest.json\", \"w\") do f\n",
    "        write(f, stringdata)\n",
    "     end"
   ]
  },
  {
   "cell_type": "code",
   "execution_count": null,
   "metadata": {},
   "outputs": [],
   "source": []
  }
 ],
 "metadata": {
  "kernelspec": {
   "display_name": "Julia 1.0.1",
   "language": "julia",
   "name": "julia-1.0"
  },
  "language_info": {
   "file_extension": ".jl",
   "mimetype": "application/julia",
   "name": "julia",
   "version": "1.0.1"
  }
 },
 "nbformat": 4,
 "nbformat_minor": 2
}
