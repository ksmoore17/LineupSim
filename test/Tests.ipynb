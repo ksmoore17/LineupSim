{
 "cells": [
  {
   "cell_type": "code",
   "execution_count": null,
   "metadata": {
    "scrolled": false
   },
   "outputs": [],
   "source": [
    "#Dist test output\n",
    "\n",
    "include(\"../src/LineupSim.jl\")\n",
    "import JSON\n",
    "\n",
    "team = LineupSim.createteam(1729)\n",
    "a = []\n",
    "for i in 1:1729\n",
    "    push!(a, merge(team[i][1], team[i][2]))\n",
    "end\n",
    "\n",
    "stringdata = JSON.json(a)\n",
    "\n",
    "open(\"./talentdisttest.json\", \"w\") do f\n",
    "        write(f, stringdata)\n",
    "     end"
   ]
  },
  {
   "cell_type": "code",
   "execution_count": null,
   "metadata": {},
   "outputs": [],
   "source": [
    "#PA test\n",
    "\n",
    "include(\"../src/LineupSim.jl\")\n",
    "include(\"../src/event.jl\")\n",
    "\n",
    "import Combinatorics, DataFrames, CSV, StatsBase, Distributions\n",
    "\n",
    "team = LineupSim.createteam(1)\n",
    "batter = team[1]\n",
    "batter[1]\n",
    "\n",
    "a = []\n",
    "\n",
    "events = eventfreq()\n",
    "\n",
    "for i in 1: 10000\n",
    "    push!(a, plateappearance(batter, events, 7, 0))\n",
    "end"
   ]
  },
  {
   "cell_type": "code",
   "execution_count": 1,
   "metadata": {},
   "outputs": [
    {
     "data": {
      "text/plain": [
       "Main.LineupSim"
      ]
     },
     "execution_count": 1,
     "metadata": {},
     "output_type": "execute_result"
    }
   ],
   "source": [
    "include(\"../src/LineupSim.jl\")"
   ]
  },
  {
   "cell_type": "code",
   "execution_count": 2,
   "metadata": {},
   "outputs": [
    {
     "data": {
      "text/plain": [
       "Dict{Tuple,Array} with 208 entries:\n",
       "  (:BIP, 6, 2) => Array{T,1} where T[Tuple{Int64,Int64,Int64}[(7, 0, 0), (5, 0,…\n",
       "  (:X3B, 1, 1) => Array{T,1} where T[Tuple{Int64,Int64,Int64}[(4, 0, 1), (0, 0,…\n",
       "  (:X3B, 7, 2) => Array{T,1} where T[Tuple{Int64,Int64,Int64}[(4, 0, 3), (0, 0,…\n",
       "  (:UBB, 2, 2) => Array{T,1} where T[Tuple{Int64,Int64,Int64}[(3, 0, 0), (5, 0,…\n",
       "  (:X2B, 2, 1) => Array{T,1} where T[Tuple{Int64,Int64,Int64}[(6, 0, 0), (2, 0,…\n",
       "  (:X1B, 1, 0) => Array{T,1} where T[Tuple{Int64,Int64,Int64}[(1, 0, 0), (3, 0,…\n",
       "  (:X1B, 2, 0) => Array{T,1} where T[Tuple{Int64,Int64,Int64}[(3, 0, 0), (5, 0,…\n",
       "  (:HR, 4, 1)  => Array{T,1} where T[Tuple{Int64,Int64,Int64}[(0, 0, 2)], [195]]\n",
       "  (:X2B, 3, 0) => Array{T,1} where T[Tuple{Int64,Int64,Int64}[(3, 0, 0), (6, 0,…\n",
       "  (:HBP, 6, 2) => Array{T,1} where T[Tuple{Int64,Int64,Int64}[(7, 0, 0)], [87]]\n",
       "  (:X1B, 4, 2) => Array{T,1} where T[Tuple{Int64,Int64,Int64}[(5, 0, 0), (1, 0,…\n",
       "  (:IBB, 1, 2) => Array{T,1} where T[Tuple{Int64,Int64,Int64}[(3, 0, 0)], [6]]\n",
       "  (:IBB, 6, 0) => Array{T,1} where T[Tuple{Int64,Int64,Int64}[(7, 0, 0)], [131]]\n",
       "  (:SO, 3, 2)  => Array{T,1} where T[Tuple{Int64,Int64,Int64}[(7, 0, 0), (3, 0,…\n",
       "  (:IBB, 6, 2) => Array{T,1} where T[Tuple{Int64,Int64,Int64}[(7, 0, 0)], [683]]\n",
       "  (:IBB, 6, 1) => Array{T,1} where T[Tuple{Int64,Int64,Int64}[(7, 0, 0), (5, 0,…\n",
       "  (:X2B, 5, 1) => Array{T,1} where T[Tuple{Int64,Int64,Int64}[(6, 0, 1), (2, 0,…\n",
       "  (:X2B, 1, 2) => Array{T,1} where T[Tuple{Int64,Int64,Int64}[(1, 0, 0), (6, 0,…\n",
       "  (:BIP, 0, 0) => Array{T,1} where T[Tuple{Int64,Int64,Int64}[(1, 0, 0), (1, 0,…\n",
       "  (:HR, 7, 1)  => Array{T,1} where T[Tuple{Int64,Int64,Int64}[(0, 0, 4)], [206]]\n",
       "  (:X3B, 1, 2) => Array{T,1} where T[Tuple{Int64,Int64,Int64}[(4, 0, 1), (0, 0,…\n",
       "  (:HR, 2, 2)  => Array{T,1} where T[Tuple{Int64,Int64,Int64}[(0, 0, 2)], [684]]\n",
       "  (:BIP, 1, 0) => Array{T,1} where T[Tuple{Int64,Int64,Int64}[(3, 0, 0), (3, 0,…\n",
       "  (:X1B, 3, 1) => Array{T,1} where T[Tuple{Int64,Int64,Int64}[(7, 0, 0), (3, 0,…\n",
       "  (:X3B, 7, 1) => Array{T,1} where T[Tuple{Int64,Int64,Int64}[(4, 0, 3)], [47]]\n",
       "  ⋮            => ⋮"
      ]
     },
     "execution_count": 2,
     "metadata": {},
     "output_type": "execute_result"
    }
   ],
   "source": [
    "team = LineupSim.createteam()\n",
    "events = LineupSim.eventfreq()"
   ]
  },
  {
   "cell_type": "code",
   "execution_count": null,
   "metadata": {},
   "outputs": [],
   "source": [
    "LineupSim.plateappearance(team[1], events, 0, 0)"
   ]
  },
  {
   "cell_type": "code",
   "execution_count": null,
   "metadata": {},
   "outputs": [],
   "source": [
    "println(LineupSim.plateappearance(team[1], events, 0, 0))"
   ]
  },
  {
   "cell_type": "code",
   "execution_count": 21,
   "metadata": {},
   "outputs": [
    {
     "data": {
      "text/plain": [
       "2-element Array{Array{T,1} where T,1}:\n",
       " Tuple{Int64,Int64,Int64}[(7, 0, 0), (7, 0, 0), (3, 0, 1), (3, 0, 1), (3, 0, 1), (5, 0, 1), (5, 0, 1), (6, 0, 1), (6, 0, 1), (2, 0, 2), (4, 0, 2), (0, 0, 3), (3, 1, 0), (5, 1, 0), (1, 1, 1), (4, 1, 1)]\n",
       " [1, 1, 2, 47, 2, 1, 23, 1, 10, 4, 2, 1, 4, 6079, 1, 1]                                                                                                                                                  "
      ]
     },
     "execution_count": 21,
     "metadata": {},
     "output_type": "execute_result"
    }
   ],
   "source": [
    "events[(:BIP,5,2)]"
   ]
  },
  {
   "cell_type": "code",
   "execution_count": null,
   "metadata": {},
   "outputs": [],
   "source": []
  }
 ],
 "metadata": {
  "kernelspec": {
   "display_name": "Julia 1.0.1",
   "language": "julia",
   "name": "julia-1.0"
  },
  "language_info": {
   "file_extension": ".jl",
   "mimetype": "application/julia",
   "name": "julia",
   "version": "1.0.1"
  }
 },
 "nbformat": 4,
 "nbformat_minor": 2
}
